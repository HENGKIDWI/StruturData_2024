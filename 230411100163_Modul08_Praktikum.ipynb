{
  "nbformat": 4,
  "nbformat_minor": 0,
  "metadata": {
    "colab": {
      "provenance": [],
      "authorship_tag": "ABX9TyOo8btuuUpN0ZfGbQYtJbno",
      "include_colab_link": true
    },
    "kernelspec": {
      "name": "python3",
      "display_name": "Python 3"
    },
    "language_info": {
      "name": "python"
    }
  },
  "cells": [
    {
      "cell_type": "markdown",
      "metadata": {
        "id": "view-in-github",
        "colab_type": "text"
      },
      "source": [
        "<a href=\"https://colab.research.google.com/github/HENGKIDWI/StruturData_2024/blob/main/230411100163_Modul08_Praktikum.ipynb\" target=\"_parent\"><img src=\"https://colab.research.google.com/assets/colab-badge.svg\" alt=\"Open In Colab\"/></a>"
      ]
    },
    {
      "cell_type": "markdown",
      "source": [
        "\n",
        "#1.\n",
        "Buatlah program untuk mendapatkan path untuk jalur terpendek dan terpanjang dari sebuah graph. (jalur\n",
        "terpendek / terpanjang HARUS lebih dari 1 dan ditampilkan semua. Misalkan terdapat Graph pada Gambar\n",
        "5"
      ],
      "metadata": {
        "id": "RZGRYaG47DlZ"
      }
    },
    {
      "cell_type": "code",
      "source": [
        "# terpendek BFS\n",
        "def bfs_shortest_path(graph, start, end):\n",
        "    queue = [(start, [start])]\n",
        "    shortest_paths = []\n",
        "    shortest_length = float('inf')\n",
        "\n",
        "    while queue:\n",
        "        node, path = queue.pop(0)\n",
        "\n",
        "        if node == end:\n",
        "            if len(path) < shortest_length and len(path) > 1:\n",
        "                shortest_paths = [path]\n",
        "                shortest_length = len(path)\n",
        "            elif len(path) == shortest_length:\n",
        "                shortest_paths.append(path)\n",
        "            continue\n",
        "\n",
        "        for neighbor in graph[node]:\n",
        "            if neighbor not in path:\n",
        "                queue.append((neighbor, path + [neighbor]))\n",
        "\n",
        "    return shortest_paths\n",
        "\n",
        "# terpanjang DFS\n",
        "def dfs_longest_path(graph, start, end):\n",
        "    def dfs(node, path):\n",
        "        if node == end:\n",
        "            if len(path) > longest_path[0] and len(path) > 1:\n",
        "                longest_paths.clear()\n",
        "                longest_paths.append(path[:])\n",
        "                longest_path[0] = len(path)\n",
        "            elif len(path) == longest_path[0]:\n",
        "                longest_paths.append(path[:])\n",
        "            return\n",
        "\n",
        "        for neighbor in graph[node]:\n",
        "            if neighbor not in path:\n",
        "                path.append(neighbor)\n",
        "                dfs(neighbor, path)\n",
        "                path.pop()\n",
        "\n",
        "    longest_paths = []\n",
        "    longest_path = [0]\n",
        "    dfs(start, [start])\n",
        "    return longest_paths\n",
        "\n",
        "# run\n",
        "graph = {\n",
        "    'A': ['B', 'C', 'D'],\n",
        "    'B': ['A', 'C', 'E'],\n",
        "    'C': ['A','B','D','E'],\n",
        "    'D': ['A','C','E'],\n",
        "    'E': ['B','C','D'],\n",
        "}\n",
        "\n",
        "start = 'A'\n",
        "end = 'E'\n",
        "\n",
        "shortest_paths = bfs_shortest_path(graph, start, end)\n",
        "longest_paths = dfs_longest_path(graph, start, end)\n",
        "\n",
        "print(f\"Jalur Terpendek dari {start} ke {end}:\")\n",
        "for path in shortest_paths:\n",
        "    print(path)\n",
        "\n",
        "print(f\"\\nJalur Terpanjang dari {start} ke {end}:\")\n",
        "for path in longest_paths:\n",
        "    print(path)"
      ],
      "metadata": {
        "colab": {
          "base_uri": "https://localhost:8080/"
        },
        "id": "nSw71cW3Vn6V",
        "outputId": "df4b1ba2-4193-42f8-81da-c2706b277911"
      },
      "execution_count": null,
      "outputs": [
        {
          "output_type": "stream",
          "name": "stdout",
          "text": [
            "Jalur Terpendek dari A ke E:\n",
            "['A', 'B', 'E']\n",
            "['A', 'C', 'E']\n",
            "['A', 'D', 'E']\n",
            "\n",
            "Jalur Terpanjang dari A ke E:\n",
            "['A', 'B', 'C', 'D', 'E']\n",
            "['A', 'D', 'C', 'B', 'E']\n"
          ]
        }
      ]
    }
  ]
}