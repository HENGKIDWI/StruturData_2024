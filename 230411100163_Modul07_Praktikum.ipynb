{
  "nbformat": 4,
  "nbformat_minor": 0,
  "metadata": {
    "colab": {
      "provenance": [],
      "authorship_tag": "ABX9TyP4LXq7ztKeHUJzXWq1xBW3",
      "include_colab_link": true
    },
    "kernelspec": {
      "name": "python3",
      "display_name": "Python 3"
    },
    "language_info": {
      "name": "python"
    }
  },
  "cells": [
    {
      "cell_type": "markdown",
      "metadata": {
        "id": "view-in-github",
        "colab_type": "text"
      },
      "source": [
        "<a href=\"https://colab.research.google.com/github/HENGKIDWI/StruturData_2024/blob/main/230411100163_Modul07_Praktikum.ipynb\" target=\"_parent\"><img src=\"https://colab.research.google.com/assets/colab-badge.svg\" alt=\"Open In Colab\"/></a>"
      ]
    },
    {
      "cell_type": "markdown",
      "source": [
        "#1.\n",
        " Soal tentang Linked List\n",
        "\n",
        "1. Buatlah program dari 4 node berikut dengan kondisi awal linked list kosong:\n",
        "2. Tambahkan node baru dengan data 500 dari belakang. Tambahkan node baru dengan data 50\n",
        "dari depan. Tambahkan node dengan data 250 setelah node 200.\n",
        "3. Hapus node depan. Selanjutnya hapus node belakang. Selanjutnya hapus node yang memiliki\n",
        "data 300.\n",
        "4. Akses semua data dari seluruh node tersebut dari node yg paling depan ke belakang.\n",
        "Berikut ilustrasi soal tersebut:"
      ],
      "metadata": {
        "id": "MoN7Vd2-rTXh"
      }
    },
    {
      "cell_type": "code",
      "execution_count": null,
      "metadata": {
        "colab": {
          "base_uri": "https://localhost:8080/"
        },
        "outputId": "782e16e1-19e8-4258-87ea-7fce7b22b51d",
        "id": "fy00zM9KFpcv"
      },
      "outputs": [
        {
          "output_type": "stream",
          "name": "stdout",
          "text": [
            "100 -> 200 -> 300 -> 400 -> None\n",
            "\n",
            "100 -> 200 -> 300 -> 400 -> 500 -> None\n",
            "\n",
            "50 -> 100 -> 200 -> 300 -> 400 -> 500 -> None\n",
            "\n",
            "50 -> 100 -> 200 -> 250 -> 300 -> 400 -> 500 -> None\n",
            "\n",
            "100 -> 200 -> 250 -> 400 -> None\n"
          ]
        }
      ],
      "source": [
        "class Node:\n",
        "  def __init__(self, data=None):\n",
        "    self.data = data\n",
        "    self.next = None\n",
        "\n",
        "class LinkedList:\n",
        "\n",
        "  def __init__(self):\n",
        "    self.head = None\n",
        "\n",
        "  def tambahDepan(self, data):\n",
        "    new_node = Node(data)\n",
        "    new_node.next = self.head\n",
        "    self.head = new_node\n",
        "\n",
        "  def tambahAkhir(self, data):\n",
        "    new_node = Node(data)\n",
        "    if self.head == None:\n",
        "      self.head = new_node\n",
        "      return\n",
        "    current_node = self.head\n",
        "    while current_node.next != None:\n",
        "      current_node = current_node.next\n",
        "    current_node.next = new_node\n",
        "\n",
        "  def tambahTengah(self, data, value):\n",
        "    new_node = Node(data)\n",
        "    current_node = self.head\n",
        "    while current_node is not None and current_node.data != value:\n",
        "      current_node = current_node.next\n",
        "    if current_node is not None:\n",
        "      new_node.next = current_node.next\n",
        "      current_node.next = new_node\n",
        "    else:\n",
        "      print(\"nilai tidak ada\")\n",
        "\n",
        "  def hapusDepan(self):\n",
        "    temp = self.head\n",
        "    self.head = self.head.next\n",
        "    temp = None\n",
        "\n",
        "  def hapusBelakang(self):\n",
        "    temp = self.head\n",
        "    while temp.next and temp.next.next != None:\n",
        "      temp = temp.next\n",
        "    temp.next = None\n",
        "\n",
        "  def hapus(self, dataHapus):\n",
        "    previous = None\n",
        "    current_node = self.head\n",
        "    while current_node != None:\n",
        "      if current_node.data == dataHapus:\n",
        "        if current_node == self.head:\n",
        "          self.head = current_node.next\n",
        "        else:\n",
        "          previous.next = current_node.next\n",
        "      previous = current_node\n",
        "      current_node = current_node.next\n",
        "\n",
        "  def cetak(self):\n",
        "    a = self.head\n",
        "    while a != None:\n",
        "      print(a.data, \"-> \", end=\"\")\n",
        "      a = a.next\n",
        "    print(a)\n",
        "\n",
        "\n",
        "\n",
        "ll = LinkedList()\n",
        "\n",
        "ll.tambahAkhir(100)\n",
        "ll.tambahAkhir(200)\n",
        "ll.tambahAkhir(300)\n",
        "ll.tambahAkhir(400)\n",
        "ll.cetak()\n",
        "print(\"\")\n",
        "ll.tambahAkhir(500)\n",
        "ll.cetak()\n",
        "print(\"\")\n",
        "ll.tambahDepan(50)\n",
        "ll.cetak()\n",
        "print(\"\")\n",
        "ll.tambahTengah(250, 200)\n",
        "ll.cetak()\n",
        "print(\"\")\n",
        "ll.hapusDepan()\n",
        "ll.hapusBelakang()\n",
        "ll.hapus(300)\n",
        "ll.cetak()\n"
      ]
    },
    {
      "cell_type": "markdown",
      "source": [
        "#2.\n",
        "Buatlah fungsi-fungsi yang diperlukan dalam pencarian berdasarkan menggunakan konsep\n",
        "hashing, dan penanganan collusion dengan chaining. Fungsi-fungsi tersebut antara lain:\n",
        "\n",
        "1. Hash Function yaitu fungsi hash yang menggunakan remainder function, dengan dua argument atau\n",
        "parameter, yaitu:\n",
        "a. data yang akan dimasukkan ke dalam table hash\n",
        "b. bilangan modulo\n",
        "Sedangkan return value nya berupa adalah slot atau posisi data pada hash table\n",
        "Contoh berikut adalah eksekusi reminderfunction dengan argument data berupa 55, dan bilangan modulo\n",
        "adalah 10, sehingga output yang dihasilkan adalah 55 % 10 = 5\n",
        "\n",
        "2. create Hash Table, yaitu fungsi pembuatan hash table. Gunakan list 2D pada pembuatan hash table ini,\n",
        "karena dibutuhkan untuk penanganan collusion dengan chaining. Argumen yang terdapat pada fungsi ini\n",
        "adalah ukuran dari hash table, sedangkan return value berupa Hash table yang telah terbentuk (berupa list\n",
        "2D, dengan nilai default adalah [None]\n",
        "Berikut adalah inisialisasi hash table dengan ukuran 11 :\n",
        "\n",
        "3. Chaining, yaitu fungsi penempatan sejumlah data pada hash table yang telah dibuat. Fungsi chaining\n",
        "ini memiliki argument berupa list data (kumpulan data) yang akan ditempatkan pada hash table, dan\n",
        "hash table yang telah dibuat sebelumnya. Penempatan data yang dibuat berdasarkan metode chaining\n",
        "untuk penanganan collusion. Jika suatu data memiliki nilai hash yang sama (berdasarkan fungsi hash,\n",
        "gunakan remainder function yang telah dibuat), maka data ditempatkan pada slot yang sama, akan\n",
        "tetapi pada indeks yang berbeda, seperti yang terlihat pada Gambar berikut:\n",
        "Contoh eksekusi fungsi chaining ini dapat dilihat sebagai berikut (size hash table adalah 11, dan sudah dibuat\n",
        "sebelumnya dengan menggunakan create hash table):\n",
        "\n",
        "4. searchHash, yaitu fungsi pencarian berdasarkan fungsi hash yang telah dibuat sebelumnya. Argumen adalah\n",
        "data yang akan dicari dan hash table yang telah dibuat sebelumnya. Return value adalah False (jika data\n",
        "tidak ada), atau Nomor slot dan indeks jika data ada, seperti contoh berikut:"
      ],
      "metadata": {
        "id": "auumsfdLcV6J"
      }
    },
    {
      "cell_type": "code",
      "source": [
        "def remainderFunction(data, modulo):\n",
        "  return data % modulo\n",
        "\n",
        "def createHashTable(num):\n",
        "  temp = []\n",
        "  for i in range(num):\n",
        "    temp.append([None])\n",
        "  return temp\n",
        "\n",
        "def chaining(List, table):\n",
        "  for data in List:\n",
        "    slot = remainderFunction(data, len(table))\n",
        "    if table[slot] == [None]:\n",
        "      table[slot].pop()\n",
        "    table[slot].append(data)\n",
        "\n",
        "def SearchHash(data, Hashtable):\n",
        "  hashValue = remainderFunction(data, len(Hashtable))\n",
        "  index = None\n",
        "  for i in range(len(Hashtable[hashValue])):\n",
        "    if data == Hashtable[hashValue][i]:\n",
        "      index = i\n",
        "      break\n",
        "  if index is not None:\n",
        "    return (f'(data berada pada slot ke - {hashValue} dan indeks ke {index})')\n",
        "  else:\n",
        "    return False\n",
        "\n",
        "slot=remainderFunction(55,10)\n",
        "print(slot)\n",
        "\n",
        "hashTable=createHashTable(11)\n",
        "print(hashTable)\n",
        "\n",
        "a = [54,26,93,17,77,31,44,55,20]\n",
        "chaining(a,hashTable)\n",
        "print(hashTable)\n",
        "\n",
        "\n",
        "print(SearchHash(66,hashTable))\n",
        "print(SearchHash(54,hashTable))\n",
        "print(SearchHash(20,hashTable))\n",
        "print(SearchHash(55,hashTable))\n",
        "print(SearchHash(100,hashTable))"
      ],
      "metadata": {
        "id": "E0_gUY3LhvHY",
        "colab": {
          "base_uri": "https://localhost:8080/"
        },
        "outputId": "88d01e1e-a5f1-45b5-d4ec-3d1930e7276c"
      },
      "execution_count": null,
      "outputs": [
        {
          "output_type": "stream",
          "name": "stdout",
          "text": [
            "5\n",
            "[[None], [None], [None], [None], [None], [None], [None], [None], [None], [None], [None]]\n",
            "[[77, 44, 55], [None], [None], [None], [26], [93], [17], [None], [None], [31, 20], [54]]\n",
            "False\n",
            "(data berada pada slot ke - 10 dan indeks ke 0)\n",
            "(data berada pada slot ke - 9 dan indeks ke 1)\n",
            "(data berada pada slot ke - 0 dan indeks ke 2)\n",
            "False\n"
          ]
        }
      ]
    }
  ]
}