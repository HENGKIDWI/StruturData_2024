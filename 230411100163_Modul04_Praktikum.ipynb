{
  "nbformat": 4,
  "nbformat_minor": 0,
  "metadata": {
    "colab": {
      "provenance": [],
      "include_colab_link": true
    },
    "kernelspec": {
      "name": "python3",
      "display_name": "Python 3"
    },
    "language_info": {
      "name": "python"
    }
  },
  "cells": [
    {
      "cell_type": "markdown",
      "metadata": {
        "id": "view-in-github",
        "colab_type": "text"
      },
      "source": [
        "<a href=\"https://colab.research.google.com/github/HENGKIDWI/StruturData_2024/blob/main/230411100163_Modul04_Praktikum.ipynb\" target=\"_parent\"><img src=\"https://colab.research.google.com/assets/colab-badge.svg\" alt=\"Open In Colab\"/></a>"
      ]
    },
    {
      "cell_type": "markdown",
      "source": [
        "#1\n",
        "Buat fungsi untuk cek valid input Postfix yang dimasukkan, jika input Postfix yang dimasukan sudah\n",
        "sesuai buat fungsi untuk hitung evaluasi postfix tersebut. Validitas untuk cek kevalidan postfix adalah\n",
        "sebagai berikut ini:  \n",
        "• Gunakan operasi-operasi pada Stack\n",
        "\n",
        "• Verifikasi Token Valid: Pastikan setiap token dalam ekspresi adalah operand numerik atau oper-\n",
        "ator yang valid (+, -, *, /).  \n",
        "\n",
        "• Verifikasi Struktur: Pastikan bahwa setiap operator memiliki cukup operand sebelumnya dalam\n",
        "ekspresi. Jumlah total operand harus selalu lebih dari jumlah total operator hingga setiap titik\n",
        "dalam ekspresi, dan di akhir harus ada tepat satu operand lebih banyak daripada operator.   "
      ],
      "metadata": {
        "id": "p628ZGXw8FXe"
      }
    },
    {
      "cell_type": "code",
      "execution_count": null,
      "metadata": {
        "colab": {
          "base_uri": "https://localhost:8080/"
        },
        "id": "LxV_I5wH7465",
        "outputId": "42ab2d7b-409c-4e20-8c22-68bedd693dcd"
      },
      "outputs": [
        {
          "output_type": "execute_result",
          "data": {
            "text/plain": [
              "3"
            ]
          },
          "metadata": {},
          "execution_count": 35
        }
      ],
      "source": [
        "def stack():\n",
        "  s=[]\n",
        "  return (s)\n",
        "def push(s,data):\n",
        "  s.append(data)\n",
        "def pop(s):\n",
        "  data=s.pop()\n",
        "  return(data)\n",
        "def peek(s):\n",
        "  return(s[len(s)-1])\n",
        "def isEmpty(s):\n",
        "  return (s==[])\n",
        "def size(s):\n",
        "  return(len(s))\n",
        "\n",
        "def valid_Postfix(postfix):\n",
        "  operand = stack()\n",
        "  for i in range(len(postfix)):\n",
        "    if postfix[i] in \"0123456789\":\n",
        "      push(operand, postfix[i])\n",
        "    elif postfix[i] in \"+-/*\":\n",
        "      if size(operand) < 2:\n",
        "        print(\"Jumlah operator atau operand tidak valid\")\n",
        "        return False\n",
        "      else:\n",
        "        operand2 = pop(operand)\n",
        "        operand1 = pop(operand)\n",
        "        push(operand, operand1 + operand2 + postfix[i])\n",
        "    else:\n",
        "      print(f\"Token {postfix[i]} tidak valid\")\n",
        "      return False\n",
        "\n",
        "  if size(operand) != 1:\n",
        "    print(\"Jumlah operator atau operand tidak valid\")\n",
        "    return False\n",
        "\n",
        "  return True\n",
        "\n",
        "def evaluasiPostfix(postfix):\n",
        "  valid=valid_Postfix(postfix)\n",
        "  if valid != True:\n",
        "    print(\"POSTFIX TIDAK VALID!!!\")\n",
        "    return False\n",
        "\n",
        "  operandStack=stack()\n",
        "  for i in postfix:\n",
        "    if i not in \"+-/*\":\n",
        "      push(operandStack,i)\n",
        "    else:\n",
        "      oprnd2=pop(operandStack)\n",
        "      oprnd1=pop(operandStack)\n",
        "      if i=='+':\n",
        "        result=int(oprnd1)+int(oprnd2)\n",
        "      elif i=='-':\n",
        "        result=int(oprnd1)-int(oprnd2)\n",
        "      elif i=='*':\n",
        "        result=int(oprnd1)*int(oprnd2)\n",
        "      else:\n",
        "        result=int(oprnd1)/int(oprnd2)\n",
        "      push(operandStack,result)\n",
        "  return(pop(operandStack))\n",
        "\n",
        "evaluasiPostfix(\"12+\")"
      ]
    },
    {
      "cell_type": "markdown",
      "source": [
        "#2\n",
        "Buat fungsi untuk cek valid input prefix, jika input prefix sudah sesuai buat fungsi konversi ke infix\n",
        "dengan menggunakan kurung buka dan kurung tutup. Validitas untuk cek kevalidan prefix adalah\n",
        "sebagai berikut ini:  \n",
        "• Pastikan setiap token adalah operan yang valid atau operator yang dikenal.  \n",
        "• Cek apakah jumlah total operan dan operator memenuhi kriteria validasi ekspresi prefix yang seimbang.  \n",
        "• Verifikasi bahwa jumlah operan selalu lebih banyak daripada jumlah operator hingga titik tertentu dan akhirnya memiliki satu operan lebih banyak daripada operator.  \n",
        "• Baca ekspresi dari kanan ke kiri menggunakan stack.  \n",
        "• Jika menemukan operan, push ke stack.  \n",
        "• Jika menemukan operator, pop dua item teratas dari stack, format keduanya dengan tanda kurung di sekitar ekspresi yang dibentuk, dan push kembali ke stack.  \n",
        "• Elemen terakhir di stack adalah ekspresi infix.  "
      ],
      "metadata": {
        "id": "4p39oHbQHn6j"
      }
    },
    {
      "cell_type": "code",
      "source": [
        "def stack():\n",
        "  s=[]\n",
        "  return (s)\n",
        "def push(s,data):\n",
        "  s.append(data)\n",
        "def pop(s):\n",
        "  data=s.pop()\n",
        "  return(data)\n",
        "def peek(s):\n",
        "  return(s[len(s)-1])\n",
        "def isEmpty(s):\n",
        "  return (s==[])\n",
        "def size(s):\n",
        "  return(len(s))\n",
        "\n",
        "def valid_Prefix(prefix):\n",
        "  operand = stack()\n",
        "  for i in range(len(prefix)-1,-1,-1):\n",
        "    if prefix[i] in \"0123456789\":\n",
        "      push(operand,prefix[i])\n",
        "    elif prefix[i] in \"+-/*\":\n",
        "      if size(operand) < 2:\n",
        "        print(\"Jumlah operator atau operand tidak valid\")\n",
        "        return False\n",
        "      else:\n",
        "        operand2 = pop(operand)\n",
        "        operand1 = pop(operand)\n",
        "        push(operand, prefix[i] + operand1 + operand2)\n",
        "    else:\n",
        "      print(f\"Token {prefix[i]} tidak valid\")\n",
        "      return False\n",
        "\n",
        "  if size(operand) != 1:\n",
        "    print(\"Jumlah operator atau operand tidak valid\")\n",
        "    return False\n",
        "  return True\n",
        "\n",
        "def prefix_to_infix(prefix):\n",
        "  if not valid_Prefix(prefix):\n",
        "      print(\"PREFIX TIDAK VALID!!!\")\n",
        "      return False\n",
        "  operand = stack()\n",
        "  for i in range(len(prefix)-1,-1,-1):\n",
        "    if prefix[i] in \"1234567890\":\n",
        "      push(operand, prefix[i])\n",
        "    else:\n",
        "      operand2 = pop(operand)\n",
        "      operand1 = pop(operand)\n",
        "      push(operand, \"(\" + operand2 + prefix[i] + operand1 + \")\")\n",
        "  return pop(operand)\n",
        "\n",
        "prefix_to_infix(\"+12\")\n"
      ],
      "metadata": {
        "colab": {
          "base_uri": "https://localhost:8080/",
          "height": 35
        },
        "id": "kCGXXxvAIByk",
        "outputId": "38396c30-e5de-4c83-b27d-e538129d71e9"
      },
      "execution_count": null,
      "outputs": [
        {
          "output_type": "execute_result",
          "data": {
            "text/plain": [
              "'(1+2)'"
            ],
            "application/vnd.google.colaboratory.intrinsic+json": {
              "type": "string"
            }
          },
          "metadata": {},
          "execution_count": 36
        }
      ]
    },
    {
      "cell_type": "markdown",
      "source": [
        "# No 3\n",
        "Simulasikan antrian pemesanan di sebuah restoran cepat saji. Program harus dapat menangani operasi-\n",
        "operasi dasar pada antrian seperti menambahkan pelanggan ke antrian, melayani pelanggan, dan menampilkan status antrian saat ini. Dengan ketentuan\n",
        "\n",
        "• Tambahkan Pelanggan ke Antrian (Enqueue):  \n",
        "– Pelanggan yang datang harus ditambahkan ke belakang antrian.  \n",
        "– Setiap pelanggan diberikan nomor antrian secara otomatis.  \n",
        "• Melayani Pelanggan (Dequeue):  \n",
        "– Pelanggan di depan antrian dilayani dan dihapus dari antrian.  \n",
        "– Jika antrian kosong, tampilkan pesan bahwa tidak ada pelanggan yang sedang menunggu.  \n",
        "• Tampilkan Status Antrian, Tampilkan semua pelanggan yang ada di antrian bersama dengan nomor antrian mereka.  "
      ],
      "metadata": {
        "id": "FA3wujzNo-JF"
      }
    },
    {
      "cell_type": "code",
      "source": [
        "def createQueue():\n",
        "  q=[]\n",
        "  return (q)\n",
        "def enqueue(q,data):\n",
        "  q.insert(0,data)\n",
        "  return(q)\n",
        "def dequeue(q):\n",
        "  data=q.pop()\n",
        "  return(data)\n",
        "def isEmpty(q):\n",
        "  return (q==[])\n",
        "def size(q):\n",
        "  return (len(q))\n",
        "\n",
        "def restoran():\n",
        "  antrian = createQueue()\n",
        "  print(f\"\"\"\n",
        "  Masukan Perintah\n",
        "  1. tambah\n",
        "  2. melayani\n",
        "  3. antrian\n",
        "  4. stop\n",
        "  \"\"\")\n",
        "  masukan = input(\"Masukan perintah: \")\n",
        "\n",
        "  nomor = 1\n",
        "  while masukan != \"4\":\n",
        "    if masukan == \"1\":\n",
        "      enqueue(antrian, [nomor ,input(\"Nama Pelanggan: \")])\n",
        "      nomor += 1\n",
        "    elif masukan == \"2\":\n",
        "      if isEmpty(antrian):\n",
        "        print(\"Saat ini tidak ada pelanggan, yang mengantri!!\")\n",
        "      else:\n",
        "        pelanggan = dequeue(antrian)\n",
        "        print(f\"pelanggan {pelanggan[1]} dengan nomer antrian {pelanggan[0]} telah di layani\")\n",
        "    elif masukan == \"3\":\n",
        "      if isEmpty(antrian):\n",
        "        print(\"Antrian Kosong\")\n",
        "      else:\n",
        "        for i in range(len(antrian)-1,-1,-1):\n",
        "          print(f\"Antrian {antrian[i][0]} : pelanggan {antrian[i][1]}\")\n",
        "    else:\n",
        "      print(\"Perintah tidak Valid\")\n",
        "    print(f\"\"\"\n",
        "  Masukan Perintah\n",
        "  1. tambah\n",
        "  2. melayani\n",
        "  3. antrian\n",
        "  4. stop\n",
        "  \"\"\")\n",
        "    masukan = input(\"Masukan perintah: \")\n",
        "  print(\"Restoran Tutup\")\n",
        "  return\n",
        "\n",
        "restoran()"
      ],
      "metadata": {
        "colab": {
          "base_uri": "https://localhost:8080/"
        },
        "id": "K6Z8NzEsKpoJ",
        "outputId": "9d7a5377-2811-4ced-b150-d031ca2e2391"
      },
      "execution_count": null,
      "outputs": [
        {
          "output_type": "stream",
          "name": "stdout",
          "text": [
            "\n",
            "  Masukan Perintah\n",
            "  1. tambah\n",
            "  2. melayani\n",
            "  3. antrian\n",
            "  4. stop\n",
            "  \n",
            "Masukan perintah: 1\n",
            "Nama Pelanggan: Hengki\n",
            "\n",
            "  Masukan Perintah\n",
            "  1. tambah\n",
            "  2. melayani\n",
            "  3. antrian\n",
            "  4. stop\n",
            "  \n",
            "Masukan perintah: 1\n",
            "Nama Pelanggan: Dwi\n",
            "\n",
            "  Masukan Perintah\n",
            "  1. tambah\n",
            "  2. melayani\n",
            "  3. antrian\n",
            "  4. stop\n",
            "  \n",
            "Masukan perintah: 1\n",
            "Nama Pelanggan: Kurniawan\n",
            "\n",
            "  Masukan Perintah\n",
            "  1. tambah\n",
            "  2. melayani\n",
            "  3. antrian\n",
            "  4. stop\n",
            "  \n",
            "Masukan perintah: 3\n",
            "Antrian 1 : pelanggan Hengki\n",
            "Antrian 2 : pelanggan Dwi\n",
            "Antrian 3 : pelanggan Kurniawan\n",
            "\n",
            "  Masukan Perintah\n",
            "  1. tambah\n",
            "  2. melayani\n",
            "  3. antrian\n",
            "  4. stop\n",
            "  \n",
            "Masukan perintah: 2\n",
            "pelanggan Hengki dengan nomer antrian 1 telah di layani\n",
            "\n",
            "  Masukan Perintah\n",
            "  1. tambah\n",
            "  2. melayani\n",
            "  3. antrian\n",
            "  4. stop\n",
            "  \n",
            "Masukan perintah: 2\n",
            "pelanggan Dwi dengan nomer antrian 2 telah di layani\n",
            "\n",
            "  Masukan Perintah\n",
            "  1. tambah\n",
            "  2. melayani\n",
            "  3. antrian\n",
            "  4. stop\n",
            "  \n",
            "Masukan perintah: 2\n",
            "pelanggan Kurniawan dengan nomer antrian 3 telah di layani\n",
            "\n",
            "  Masukan Perintah\n",
            "  1. tambah\n",
            "  2. melayani\n",
            "  3. antrian\n",
            "  4. stop\n",
            "  \n",
            "Masukan perintah: 2\n",
            "Saat ini tidak ada pelanggan, yang mengantri!!\n",
            "\n",
            "  Masukan Perintah\n",
            "  1. tambah\n",
            "  2. melayani\n",
            "  3. antrian\n",
            "  4. stop\n",
            "  \n",
            "Masukan perintah: 3\n",
            "Antrian Kosong\n",
            "\n",
            "  Masukan Perintah\n",
            "  1. tambah\n",
            "  2. melayani\n",
            "  3. antrian\n",
            "  4. stop\n",
            "  \n",
            "Masukan perintah: 4\n",
            "Restoran Tutup\n"
          ]
        }
      ]
    }
  ]
}