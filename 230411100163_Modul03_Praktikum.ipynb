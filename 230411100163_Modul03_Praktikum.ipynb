{
  "nbformat": 4,
  "nbformat_minor": 0,
  "metadata": {
    "colab": {
      "provenance": [],
      "include_colab_link": true
    },
    "kernelspec": {
      "name": "python3",
      "display_name": "Python 3"
    },
    "language_info": {
      "name": "python"
    }
  },
  "cells": [
    {
      "cell_type": "markdown",
      "metadata": {
        "id": "view-in-github",
        "colab_type": "text"
      },
      "source": [
        "<a href=\"https://colab.research.google.com/github/HENGKIDWI/StruturData_2024/blob/main/230411100163_Modul03_Praktikum.ipynb\" target=\"_parent\"><img src=\"https://colab.research.google.com/assets/colab-badge.svg\" alt=\"Open In Colab\"/></a>"
      ]
    },
    {
      "cell_type": "markdown",
      "source": [
        "# 1. Buat fungsi untuk konversi bilangan desimal menjadi biner dengan ketentuan sebagai berikut:  \n",
        "a). Gunakan operasi-operasi pada Stack  \n",
        "b). Parameter fungsi berupa nilai desimal yang akan dijadikan nilai biner  \n",
        "c) Terdapat dua buah return value :  \n",
        "i. Nilai biner hasil konversi  \n",
        "ii. Tahapan operasi stack yang diperlukan dalam proses konversi  \n",
        "d). Contoh output yang dihasilkan dapat dilihat pada Gambar 3"
      ],
      "metadata": {
        "id": "YoytAC7hB4uQ"
      }
    },
    {
      "cell_type": "code",
      "source": [
        "def stack():\n",
        "  return []\n",
        "def push(s, data):\n",
        "  s.append(data)\n",
        "def pop(s):\n",
        "  return s.pop()\n",
        "def peek(s):\n",
        "  return s[-1]\n",
        "def isEmpty(s):\n",
        "  return s==[]\n",
        "def size(s):\n",
        "  return len(s)\n",
        "\n",
        "def Dec2Bin(num):\n",
        "  s = stack()\n",
        "  biner = \"\"\n",
        "  proses = \"\"\n",
        "  nomor = 1\n",
        "  while num != 0 :\n",
        "    hasil = num % 2\n",
        "    push(s, hasil)\n",
        "    proses += (f\"{nomor}. push stack with {hasil} --> {s}\\n\")\n",
        "    num //= 2\n",
        "    nomor += 1\n",
        "  while not isEmpty(s):\n",
        "    biner += str(pop(s))\n",
        "    proses += (f\"{nomor}. Pop stack ---> {s}\\n\")\n",
        "    nomor += 1\n",
        "\n",
        "  return biner, proses\n",
        "\n",
        "num = 8\n",
        "binary,proses = Dec2Bin(num)\n",
        "print(proses)\n",
        "print(f\"biner {num} = {binary}\")"
      ],
      "metadata": {
        "colab": {
          "base_uri": "https://localhost:8080/"
        },
        "id": "o_fBKHnxJ7og",
        "outputId": "bbc97e19-ecd5-4dac-bfe1-a3042c9b1d3b"
      },
      "execution_count": null,
      "outputs": [
        {
          "output_type": "stream",
          "name": "stdout",
          "text": [
            "1. push stack with 0 --> [0]\n",
            "2. push stack with 0 --> [0, 0]\n",
            "3. push stack with 0 --> [0, 0, 0]\n",
            "4. push stack with 1 --> [0, 0, 0, 1]\n",
            "5. Pop stack ---> [0, 0, 0]\n",
            "6. Pop stack ---> [0, 0]\n",
            "7. Pop stack ---> [0]\n",
            "8. Pop stack ---> []\n",
            "\n",
            "biner 8 = 1000\n"
          ]
        }
      ]
    },
    {
      "cell_type": "markdown",
      "source": [
        "#2. Buat fungsi untuk cek penempatan kurung dalam operasi matematika dengan ketentuan sebagai berikut:\n",
        "a). Gunakan operasi-operasi pada Stack  \n",
        "b). Parameter fungsi berupa string matematika  \n",
        "c). Terdapat tiga buah return value :  \n",
        "i. Hasil cek berupa nilai boolean True atau False  \n",
        "ii. Tahapan operasi stack yang diperlukan selama proses pengecekan  \n",
        "iii. List Error jika terdapat error pada proses pengecekan kurung  \n",
        "d). Contoh output yang dihasilkan dapat dilihat pada Gambar 4"
      ],
      "metadata": {
        "id": "7z6NTpCYCKL2"
      }
    },
    {
      "cell_type": "code",
      "source": [
        "def parenthesesCheck(data):\n",
        "    st = stack()\n",
        "    proc = \"\"\n",
        "    err = \"\"\n",
        "    num_proc = 1\n",
        "    num_err = 1\n",
        "    kurung = {'(':')','{':'}','[':']'}\n",
        "    check = True\n",
        "    kurungbuka = 0\n",
        "    kurungtutup = 0\n",
        "    for i in data:\n",
        "      if i in kurung:\n",
        "        push(st,i)\n",
        "        proc += f\"{num_proc}. Push stack with '{i}' --> {st}\\n\"\n",
        "        num_proc += 1\n",
        "      elif i in kurung.values():\n",
        "        if not isEmpty(st):\n",
        "          if kurung[peek(st)] == i:\n",
        "            check =True\n",
        "          else:\n",
        "            err += f\"{num_err}. Kurung buka '{peek(st)}' tidak cocok dengan kurung tutup '{i}'\\n\"\n",
        "            check = False\n",
        "            num_err += 1\n",
        "          pop(st)\n",
        "          proc += f\"{num_proc}. Pop Stack --> {st}\\n\"\n",
        "          num_proc += 1\n",
        "        else:\n",
        "          kurungtutup += 1\n",
        "    while not isEmpty(st):\n",
        "      pop(st)\n",
        "      proc += f\"{num_proc}. Pop Stack --> {st}\\n\"\n",
        "      num_proc += 1\n",
        "      kurungbuka += 1\n",
        "    if kurungbuka > 0:\n",
        "      err += f\"{num_err}. Kelebihan kurung buka\\n\"\n",
        "    elif kurungtutup > 0:\n",
        "      err += f\"{num_err}. kelebihan kurung tutup\\n\"\n",
        "    return check,proc,err\n",
        "\n",
        "matStr = '([4+5]/{9+8]*(3+2]'\n",
        "check,proc,err=parenthesesCheck(matStr)\n",
        "print(check)\n",
        "print(\"Proses Cek : \")\n",
        "print(proc)\n",
        "print(\"Error : \")\n",
        "print(err)"
      ],
      "metadata": {
        "colab": {
          "base_uri": "https://localhost:8080/"
        },
        "id": "H_W1P9FeW9ZI",
        "outputId": "0835924b-5bb7-4b25-8b1a-11e24c8e444a"
      },
      "execution_count": null,
      "outputs": [
        {
          "output_type": "stream",
          "name": "stdout",
          "text": [
            "False\n",
            "Proses Cek : \n",
            "1. Push stack with '(' --> ['(']\n",
            "2. Push stack with '[' --> ['(', '[']\n",
            "3. Pop Stack --> ['(']\n",
            "4. Push stack with '{' --> ['(', '{']\n",
            "5. Pop Stack --> ['(']\n",
            "6. Push stack with '(' --> ['(', '(']\n",
            "7. Pop Stack --> ['(']\n",
            "8. Pop Stack --> []\n",
            "\n",
            "Error : \n",
            "1. Kurung buka '{' tidak cocok dengan kurung tutup ']'\n",
            "2. Kurung buka '(' tidak cocok dengan kurung tutup ']'\n",
            "3. Kelebihan kurung buka\n",
            "\n"
          ]
        }
      ]
    },
    {
      "cell_type": "code",
      "source": [
        "8%2=0\n",
        "8/2=4\n",
        "4%2=0\n",
        "4/2=2\n",
        "2%2=0\n",
        "2/2=1\n",
        "1%2=1"
      ],
      "metadata": {
        "id": "px0XJEaLO3rg"
      },
      "execution_count": null,
      "outputs": []
    }
  ]
}