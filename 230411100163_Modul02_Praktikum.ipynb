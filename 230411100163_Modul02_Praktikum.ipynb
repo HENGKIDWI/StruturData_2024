{
  "nbformat": 4,
  "nbformat_minor": 0,
  "metadata": {
    "colab": {
      "provenance": [],
      "include_colab_link": true
    },
    "kernelspec": {
      "name": "python3",
      "display_name": "Python 3"
    },
    "language_info": {
      "name": "python"
    }
  },
  "cells": [
    {
      "cell_type": "markdown",
      "metadata": {
        "id": "view-in-github",
        "colab_type": "text"
      },
      "source": [
        "<a href=\"https://colab.research.google.com/github/HENGKIDWI/StruturData_2024/blob/main/230411100163_Modul02_Praktikum.ipynb\" target=\"_parent\"><img src=\"https://colab.research.google.com/assets/colab-badge.svg\" alt=\"Open In Colab\"/></a>"
      ]
    },
    {
      "cell_type": "markdown",
      "source": [
        "#1. Matrix 2D  \n"
      ],
      "metadata": {
        "id": "FhyGrF81QeSR"
      }
    },
    {
      "cell_type": "markdown",
      "source": [
        "(a) Buat fungsi create_matrix(rows,cols) untuk membuat matriks 2D dengan jumlah baris sebanyak rows dan jumlah kolom sebanyak cols, dengan return value berupa matriks yang sudah dibuat, seperti yang dicontohkan pada Gambar 2a atau Gambar 2b.\n",
        "\n",
        "(b) Buat fungsi display_matrix(mat) untuk menampilkan list 2D yang sudah dibuat sehingga list tersebut dapat memvisualisasikan matriks 2D seperti yang dicontohkan pada Gambar 2a atau Gambar 2b.\n",
        "\n",
        "(c) Buat fungsi untuk menjumlahkan dua buah matriks add_matrix(a,b), yaitu matriks a dan matriks b, dengan syarat kedua buah matriks memiliki ukuran yang sama, seperti yang dicontohkan pada Gambar 2c atau Gambar 2d.\n",
        "\n",
        "(d) Buat fungsi untuk mengalikan dua buah matriks mul_matrix(a,d) yaitu matriks a dan matriks b, dengan syarat perkalian matriks (jumlah kolom matriks pertama sama denganjumlah baris matriks kedua), seperti yang dicontohkan pada Gambar 2e atau Gambar 2f."
      ],
      "metadata": {
        "id": "xI57knudDvIp"
      }
    },
    {
      "cell_type": "code",
      "source": [
        "def create_matriks(rows,cols):\n",
        "  Matriks = []\n",
        "  for i in range(rows):\n",
        "    row = []\n",
        "    for j in range(cols):\n",
        "      value = int(input(f\"Data Matriks [{i},{j}] : \"))\n",
        "      row.append(value)\n",
        "    Matriks.append(row)\n",
        "  return Matriks\n",
        "\n",
        "def display_matriks(mat):\n",
        "  for i in range(len(mat)):\n",
        "    for j in range(len(mat[i])):\n",
        "        print(mat[i][j], end='   ')\n",
        "    print()\n",
        "  print()\n",
        "\n",
        "def add_matriks(a,b):\n",
        "  value = []\n",
        "  if len(a) != len(b):\n",
        "    print(\"error --- size of both matrix is not equal error matrix\")\n",
        "    return None\n",
        "  for i in range(len(a)):\n",
        "    row = []\n",
        "    for j in range(len(a[i])):\n",
        "      result = a[i][j] + b[i][j]\n",
        "      row.append(result)\n",
        "    value.append(row)\n",
        "  return value\n",
        "\n",
        "def mul_matriks(a,b):\n",
        "  if len(a[0]) != len(b):\n",
        "    print(f\"error --- require {len(a[0])} but not found {len(b)} error matrix\")\n",
        "    return None\n",
        "  value = []\n",
        "  for i in range(len(a)):\n",
        "    row = []\n",
        "    for j in range(len(a[i])):\n",
        "      hasil = a[i][j] * b[i][j]\n",
        "      row.append(hasil)\n",
        "    value.append(row)\n",
        "  return value\n"
      ],
      "metadata": {
        "id": "T8F5PFDLD0DD"
      },
      "execution_count": null,
      "outputs": []
    },
    {
      "cell_type": "code",
      "source": [
        "mat1 = create_matriks(2,3)\n"
      ],
      "metadata": {
        "colab": {
          "base_uri": "https://localhost:8080/"
        },
        "id": "1QdjdLlPnm2W",
        "outputId": "94cf03a5-9d26-49ea-db31-166322c29228"
      },
      "execution_count": null,
      "outputs": [
        {
          "name": "stdout",
          "output_type": "stream",
          "text": [
            "Data Matriks [0,0] : 1\n",
            "Data Matriks [0,1] : 2\n",
            "Data Matriks [0,2] : 3\n",
            "Data Matriks [1,0] : 4\n",
            "Data Matriks [1,1] : 5\n",
            "Data Matriks [1,2] : 6\n"
          ]
        }
      ]
    },
    {
      "cell_type": "code",
      "source": [
        "mat2 = create_matriks(2,3)\n"
      ],
      "metadata": {
        "colab": {
          "base_uri": "https://localhost:8080/"
        },
        "id": "d-PeEflOasV8",
        "outputId": "9e35a685-71c0-460d-8eb2-089eb741592f"
      },
      "execution_count": null,
      "outputs": [
        {
          "name": "stdout",
          "output_type": "stream",
          "text": [
            "Data Matriks [0,0] : 199\n",
            "Data Matriks [0,1] : 2\n",
            "Data Matriks [0,2] : 4\n",
            "Data Matriks [1,0] : 2\n",
            "Data Matriks [1,1] : 421\n",
            "Data Matriks [1,2] : 48\n"
          ]
        }
      ]
    },
    {
      "cell_type": "code",
      "source": [
        "mat3 = create_matriks(3,2)"
      ],
      "metadata": {
        "colab": {
          "base_uri": "https://localhost:8080/"
        },
        "id": "XLibfwc7azFz",
        "outputId": "749e249f-3d16-4953-f86d-f3676715523f"
      },
      "execution_count": null,
      "outputs": [
        {
          "name": "stdout",
          "output_type": "stream",
          "text": [
            "Data Matriks [0,0] : 1\n",
            "Data Matriks [0,1] : 9\n",
            "Data Matriks [1,0] : 9\n",
            "Data Matriks [1,1] : 0\n",
            "Data Matriks [2,0] : 2\n",
            "Data Matriks [2,1] : 0\n"
          ]
        }
      ]
    },
    {
      "cell_type": "code",
      "source": [
        "display_matriks(mat1)\n",
        "display_matriks(mat2)\n",
        "#display_matriks(mat3)"
      ],
      "metadata": {
        "colab": {
          "base_uri": "https://localhost:8080/"
        },
        "id": "u5o3XD8toE1o",
        "outputId": "444677c6-f755-4c80-de71-4f0788ec477d"
      },
      "execution_count": null,
      "outputs": [
        {
          "output_type": "stream",
          "name": "stdout",
          "text": [
            "1   2   3   \n",
            "4   5   6   \n",
            "\n",
            "199   2   4   \n",
            "2   421   48   \n",
            "\n"
          ]
        }
      ]
    },
    {
      "cell_type": "code",
      "source": [
        "display_matriks(mat1)\n",
        "display_matriks(mat2)\n",
        "hasil = add_matriks(mat1,mat2)\n",
        "display_matriks(hasil)"
      ],
      "metadata": {
        "colab": {
          "base_uri": "https://localhost:8080/"
        },
        "id": "o7_0D2RWpMPA",
        "outputId": "762e8690-7006-422d-b6a5-a059e6f57d6d"
      },
      "execution_count": null,
      "outputs": [
        {
          "output_type": "stream",
          "name": "stdout",
          "text": [
            "1   2   3   \n",
            "4   5   6   \n",
            "\n",
            "199   2   4   \n",
            "2   421   48   \n",
            "\n",
            "200   4   7   \n",
            "6   426   54   \n",
            "\n"
          ]
        }
      ]
    },
    {
      "cell_type": "code",
      "source": [
        "display_matriks(mat1)\n",
        "display_matriks(mat3)\n",
        "hasil = add_matriks(mat1,mat3)\n",
        "if hasil :\n",
        "  display_matriks(hasil)"
      ],
      "metadata": {
        "colab": {
          "base_uri": "https://localhost:8080/"
        },
        "id": "98BSFLYbpnng",
        "outputId": "b868a1be-c55b-4347-dd9a-c1a6bb9f1560"
      },
      "execution_count": null,
      "outputs": [
        {
          "output_type": "stream",
          "name": "stdout",
          "text": [
            "1   2   3   \n",
            "4   5   6   \n",
            "\n",
            "1   9   \n",
            "9   0   \n",
            "2   0   \n",
            "\n",
            "error --- size of both matrix is not equal error matrix\n"
          ]
        }
      ]
    },
    {
      "cell_type": "markdown",
      "source": [
        "#2. Sparse Matrix  \n"
      ],
      "metadata": {
        "id": "go6Bv7-ARLsE"
      }
    },
    {
      "cell_type": "markdown",
      "source": [
        "(a) Buat fungsi create_sparse(rows,cols) untuk membuat sparse matriks 2D (hanya menyimpan nilai yang bukan nol) dengan jumlah baris sebanyak rows dan jumlah kolom sebanyak cols, dengan return value berupa sparse matriks yang sudah dibuat, seperti yang dicontohkan pada Gambar 3a atau Gambar 3b\n",
        "\n",
        "(c) Buat fungsi mul_sparse(mat1,mat2) untuk menjumlahkan dua buah matriks sparse, dengan terdapat ketentuan pengecekan ukuran matriks, sperti yang dicontohkan pada Gambar ?? atau Gambar 5b\n",
        "\n",
        "(c) Buat fungsi mul_sparse(mat1,mat2) untuk menjumlahkan dua buah matriks sparse, dengan terdapat ketentuan pengecekan ukuran matriks, sperti yang dicontohkan pada Gambar ?? atau Gambar 5b"
      ],
      "metadata": {
        "id": "x96pBgn5Gzan"
      }
    },
    {
      "cell_type": "code",
      "source": [
        "def create_sparse(rows,cols):\n",
        "  sparse_matriks = {\n",
        "      \"rows\" : rows,\n",
        "      \"cols\" : cols\n",
        "  }\n",
        "\n",
        "  elemen = int(input(\"jumlah elemen : \"))\n",
        "  while elemen > 0:\n",
        "    baris = int(input(\"baris ke - ? \"))\n",
        "    kolom = int(input(\"baris ke - ? \"))\n",
        "    if baris < 0 or kolom < 0 or baris > rows-1 or kolom > cols-1 :\n",
        "      print(\"enter the right row and cols !!\")\n",
        "    else :\n",
        "      data = int(input(f\"Data {[baris,kolom]} = \"))\n",
        "      if data == 0:\n",
        "        print(\"enter the right data!!\")\n",
        "      else :\n",
        "        sparse_matriks[(baris,kolom)] = data\n",
        "        elemen -= 1\n",
        "\n",
        "  return sparse_matriks\n",
        "\n",
        "def display_sparseMat(mat):\n",
        "  for i in range(mat[\"rows\"]):\n",
        "    for j in range(mat[\"cols\"]):\n",
        "      if (i, j) in mat:\n",
        "        print(mat[(i, j)], end=\"    \")\n",
        "      else:\n",
        "        print(0, end=\"    \")\n",
        "    print()\n",
        "  print()\n",
        "\n",
        "\n",
        "def add_sparse(mat1, mat2):\n",
        "  if mat1[\"rows\"] != mat2[\"rows\"] or mat1[\"cols\"] != mat2[\"cols\"]:\n",
        "    print(\"ukuran matrix tidak sama\")\n",
        "    return False\n",
        "  new_sparse = {\n",
        "      \"rows\": mat1[\"rows\"],\n",
        "      \"cols\": mat1[\"cols\"]\n",
        "  }\n",
        "  for i in range(mat1[\"rows\"]):\n",
        "    for j in range(mat1[\"cols\"]):\n",
        "      if (i, j) in mat1 and (i, j) in mat2:\n",
        "        new_sparse[(i, j)] = mat1[(i, j)] + mat2[(i, j)]\n",
        "      elif (i, j) in mat1:\n",
        "         new_sparse[(i, j)] = mat1[(i, j)]\n",
        "      elif (i, j) in mat2:\n",
        "         new_sparse[(i, j)] = mat2[(i, j)]\n",
        "\n",
        "  return new_sparse\n",
        "\n",
        "\n",
        "def mul_sparse(mat1, mat2):\n",
        "  if mat1['cols'] != mat2['rows']:\n",
        "    print(f\"Error --- require {mat1['cols']} but found {mat2['rows']}\\nError Matrix\")\n",
        "    return None\n",
        "    hasil = {'rows': mat1['rows'], 'cols': mat2['cols']}\n",
        "  for i in range(mat1['rows']):\n",
        "    for j in range(mat2['cols']):\n",
        "      jumlah = 0\n",
        "      for k in range(mat1['cols']):\n",
        "        if (i, k) in mat1:\n",
        "          nilai_mat1 = mat1[(i, k)]\n",
        "          if (k, j) in mat2:\n",
        "            nilai_mat2 = mat2[(k, j)]\n",
        "            jumlah += nilai_mat1 * nilai_mat2\n",
        "            if jumlah != 0:\n",
        "              hasil[(i, j)] = jumlah\n",
        "    return hasil\n"
      ],
      "metadata": {
        "id": "SdIO-jqiG0fl"
      },
      "execution_count": null,
      "outputs": []
    },
    {
      "cell_type": "code",
      "source": [
        "mat1 = create_sparse(4,6)\n",
        "print(mat1)\n",
        "display_sparseMat(mat1)"
      ],
      "metadata": {
        "colab": {
          "base_uri": "https://localhost:8080/"
        },
        "id": "466HpsvtOG0W",
        "outputId": "13b5a71d-dda3-442b-c744-aa665b257813"
      },
      "execution_count": null,
      "outputs": [
        {
          "output_type": "stream",
          "name": "stdout",
          "text": [
            "jumlah elemen : 3\n",
            "baris ke - ? 1\n",
            "baris ke - ? 2\n",
            "Data [1, 2] = 9\n",
            "baris ke - ? 3\n",
            "baris ke - ? 2\n",
            "Data [3, 2] = 4\n",
            "baris ke - ? 3\n",
            "baris ke - ? 5\n",
            "Data [3, 5] = 10\n",
            "{'rows': 4, 'cols': 6, (1, 2): 9, (3, 2): 4, (3, 5): 10}\n",
            "0    0    0    0    0    0    \n",
            "0    0    9    0    0    0    \n",
            "0    0    0    0    0    0    \n",
            "0    0    4    0    0    10    \n",
            "\n"
          ]
        }
      ]
    },
    {
      "cell_type": "code",
      "source": [
        "mat2 = create_sparse(4,6)\n",
        "print(mat2)\n",
        "display_sparseMat(mat2)"
      ],
      "metadata": {
        "colab": {
          "base_uri": "https://localhost:8080/"
        },
        "id": "MwhDh_XMVw9q",
        "outputId": "736d5f31-2fa5-4754-d034-c497dac0c276"
      },
      "execution_count": null,
      "outputs": [
        {
          "output_type": "stream",
          "name": "stdout",
          "text": [
            "jumlah elemen : 3\n",
            "baris ke - ? 1\n",
            "baris ke - ? 2\n",
            "Data [1, 2] = 8\n",
            "baris ke - ? 1\n",
            "baris ke - ? 3\n",
            "Data [1, 3] = 5\n",
            "baris ke - ? 3\n",
            "baris ke - ? 2\n",
            "Data [3, 2] = 5\n",
            "{'rows': 4, 'cols': 6, (1, 2): 8, (1, 3): 5, (3, 2): 5}\n",
            "0    0    0    0    0    0    \n",
            "0    0    8    5    0    0    \n",
            "0    0    0    0    0    0    \n",
            "0    0    5    0    0    0    \n",
            "\n"
          ]
        }
      ]
    },
    {
      "cell_type": "code",
      "source": [
        "mat3 = create_sparse(4,6)\n",
        "print(mat3)\n",
        "display_sparseMat(mat3)"
      ],
      "metadata": {
        "colab": {
          "base_uri": "https://localhost:8080/"
        },
        "id": "PseDVSqAZThg",
        "outputId": "e5195326-0c9c-4efb-be40-0c8daa76de1c"
      },
      "execution_count": null,
      "outputs": [
        {
          "output_type": "stream",
          "name": "stdout",
          "text": [
            "jumlah elemen : 1\n",
            "baris ke - ? 5\n",
            "baris ke - ? 1\n",
            "enter the right row and cols !!\n",
            "baris ke - ? 4\n",
            "baris ke - ? 2\n",
            "enter the right row and cols !!\n",
            "baris ke - ? 3\n",
            "baris ke - ? 3\n",
            "Data [3, 3] = 10\n",
            "{'rows': 4, 'cols': 6, (3, 3): 10}\n",
            "0    0    0    0    0    0    \n",
            "0    0    0    0    0    0    \n",
            "0    0    0    0    0    0    \n",
            "0    0    0    10    0    0    \n",
            "\n"
          ]
        }
      ]
    },
    {
      "cell_type": "code",
      "source": [
        "display_sparseMat(mat1)\n",
        "display_sparseMat(mat2)\n",
        "hasil = add_sparse(mat1,mat2)\n",
        "display_sparseMat(hasil)"
      ],
      "metadata": {
        "colab": {
          "base_uri": "https://localhost:8080/"
        },
        "id": "u0B_Z_HeW_zJ",
        "outputId": "a545a770-cc43-43d3-db8c-ecc3e77ad3bf"
      },
      "execution_count": null,
      "outputs": [
        {
          "output_type": "stream",
          "name": "stdout",
          "text": [
            "0    0    0    0    0    0    \n",
            "0    0    9    0    0    0    \n",
            "0    0    0    0    0    0    \n",
            "0    0    4    0    0    10    \n",
            "\n",
            "0    0    0    0    0    0    \n",
            "0    0    8    5    0    0    \n",
            "0    0    0    0    0    0    \n",
            "0    0    5    0    0    0    \n",
            "\n",
            "0    0    0    0    0    0    \n",
            "0    0    17    5    0    0    \n",
            "0    0    0    0    0    0    \n",
            "0    0    9    0    0    10    \n",
            "\n"
          ]
        }
      ]
    },
    {
      "cell_type": "code",
      "source": [
        "display_sparseMat(mat1)\n",
        "display_sparseMat(mat3)\n",
        "hasil = add_sparse(mat1,mat3)\n",
        "display_sparseMat(hasil)"
      ],
      "metadata": {
        "colab": {
          "base_uri": "https://localhost:8080/"
        },
        "id": "IMoRmh52aYHn",
        "outputId": "8e261a27-8c51-4bc9-a5cb-cf981897f9a7"
      },
      "execution_count": null,
      "outputs": [
        {
          "output_type": "stream",
          "name": "stdout",
          "text": [
            "0    0    0    0    0    0    \n",
            "0    0    9    0    0    0    \n",
            "0    0    0    0    0    0    \n",
            "0    0    4    0    0    10    \n",
            "\n",
            "0    0    0    0    0    0    \n",
            "0    0    0    0    0    0    \n",
            "0    0    0    0    0    0    \n",
            "0    0    0    10    0    0    \n",
            "\n",
            "0    0    0    0    0    0    \n",
            "0    0    9    0    0    0    \n",
            "0    0    0    0    0    0    \n",
            "0    0    4    10    0    10    \n",
            "\n"
          ]
        }
      ]
    },
    {
      "cell_type": "code",
      "source": [
        "display_sparseMat(mat1)\n",
        "display_sparseMat(mat2)\n",
        "hasil = mul_sparse(mat1,mat2)\n",
        "if hasil :\n",
        "  display_sparseMat(hasil)"
      ],
      "metadata": {
        "colab": {
          "base_uri": "https://localhost:8080/"
        },
        "id": "jK7ocZ0UYDkH",
        "outputId": "6092506e-6395-4ea2-cf91-947f8092d5ff"
      },
      "execution_count": null,
      "outputs": [
        {
          "output_type": "stream",
          "name": "stdout",
          "text": [
            "0    0    0    0    0    0    \n",
            "0    0    9    0    0    0    \n",
            "0    0    0    0    0    0    \n",
            "0    0    4    0    0    10    \n",
            "\n",
            "0    0    0    0    0    0    \n",
            "0    0    8    5    0    0    \n",
            "0    0    0    0    0    0    \n",
            "0    0    5    0    0    0    \n",
            "\n",
            "Error --- require 6 but found 4\n",
            "Error Matrix\n"
          ]
        }
      ]
    }
  ]
}