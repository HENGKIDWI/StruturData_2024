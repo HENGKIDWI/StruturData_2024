{
  "nbformat": 4,
  "nbformat_minor": 0,
  "metadata": {
    "colab": {
      "provenance": [],
      "include_colab_link": true
    },
    "kernelspec": {
      "name": "python3",
      "display_name": "Python 3"
    },
    "language_info": {
      "name": "python"
    }
  },
  "cells": [
    {
      "cell_type": "markdown",
      "metadata": {
        "id": "view-in-github",
        "colab_type": "text"
      },
      "source": [
        "<a href=\"https://colab.research.google.com/github/HENGKIDWI/StruturData_2024/blob/main/230411100163_Modul05_Praktikum.ipynb\" target=\"_parent\"><img src=\"https://colab.research.google.com/assets/colab-badge.svg\" alt=\"Open In Colab\"/></a>"
      ]
    },
    {
      "cell_type": "markdown",
      "source": [
        "# No 1\n",
        "Buat fungsi modifikasi Bubble Sort agar pengurutannya dilakukan secara optimal, dengan cara:  \n",
        "- gunakanlah flag untuk memeriksa apakah ada pertukaran yang terjadi selama iterasi tertentu. Jika tidak ada pertukaran yang terjadi, maka hal ini berarti array sudah terurut dan algoritma dapat dihentikan lebih awal. Amati yang terjadi.  \n",
        "- tambahkanlah while loop dan amati yang terjadi.\n",
        "\n"
      ],
      "metadata": {
        "id": "-TmwhMFVV2Jf"
      }
    },
    {
      "cell_type": "code",
      "source": [
        "def Bubblesort(data):\n",
        "  flag = True\n",
        "  itr = 1\n",
        "  while flag :\n",
        "    flag = False\n",
        "    print(f\"iterasi ke-{itr} = {data}\")\n",
        "    for i in range(len(data)-1):\n",
        "      if data[i] < data[i+1]:\n",
        "        data[i], data[i+1] = data[i+1],data[i]\n",
        "        flag = True\n",
        "        print(data)\n",
        "    print(f\"Flag : {flag} \")\n",
        "    itr += 1\n",
        "\n",
        "  return data\n",
        "\n",
        "arr = [4,3,5,4]\n",
        "print(\"Data awal: \",arr)\n",
        "hasil = Bubblesort(arr)\n",
        "print(\"Data akhir: \",hasil)"
      ],
      "metadata": {
        "colab": {
          "base_uri": "https://localhost:8080/"
        },
        "id": "M91ox-MZZfZK",
        "outputId": "3ddf2e84-ead9-42d4-a6d1-7d92e269d2af"
      },
      "execution_count": null,
      "outputs": [
        {
          "output_type": "stream",
          "name": "stdout",
          "text": [
            "Data awal:  [4, 3, 5, 4]\n",
            "iterasi ke-1 = [4, 3, 5, 4]\n",
            "[4, 5, 3, 4]\n",
            "[4, 5, 4, 3]\n",
            "Flag : True \n",
            "iterasi ke-2 = [4, 5, 4, 3]\n",
            "[5, 4, 4, 3]\n",
            "Flag : True \n",
            "iterasi ke-3 = [5, 4, 4, 3]\n",
            "Flag : False \n",
            "Data akhir:  [5, 4, 4, 3]\n"
          ]
        }
      ]
    },
    {
      "cell_type": "markdown",
      "source": [
        "# No 2\n",
        "Buat fungsi modifikasi Selection Sort agar dalam satu iterasi dapat memilih elemen terkecil dan terbesar\n",
        "dan meletakkannya di tempat yang tepat, sehingga mengurangi jumlah iterasi yang diperlukan untuk\n",
        "mengurutkan seluruh array."
      ],
      "metadata": {
        "id": "EVtPAC9PWVqf"
      }
    },
    {
      "cell_type": "code",
      "source": [
        "def Selectionsort(data):\n",
        "  for i in range(len(data) // 2):\n",
        "    min_index = i\n",
        "    max_index = len(data) - i - 1\n",
        "    for j in range(i, len(data) - i):\n",
        "      if data[j] < data[min_index]:\n",
        "        min_index = j\n",
        "      elif data[j] > data[max_index]:\n",
        "        max_index = j\n",
        "    data[i], data[min_index] = data[min_index], data[i]\n",
        "    if max_index == i:\n",
        "      max_index = min_index\n",
        "    data[len(data) - i - 1], data[max_index] = data[max_index], data[len(data) - i - 1]\n",
        "    print(f\"iterasi ke-{i+1} = {data}\")\n",
        "  return data\n",
        "\n",
        "data = [5,6,7,9,1]\n",
        "print(f'Nilai awal: {data}')\n",
        "print(f\"Nilai Akhir:{Selectionsort(data)}\")"
      ],
      "metadata": {
        "id": "fcKxGqfNtuKA",
        "colab": {
          "base_uri": "https://localhost:8080/"
        },
        "outputId": "af7f8910-3224-4c45-c7b3-db1ce20f946c"
      },
      "execution_count": null,
      "outputs": [
        {
          "output_type": "stream",
          "name": "stdout",
          "text": [
            "Nilai awal: [5, 6, 7, 9, 1]\n",
            "iterasi ke-1 = [1, 6, 7, 5, 9]\n",
            "iterasi ke-2 = [1, 5, 6, 7, 9]\n",
            "Nilai Akhir:[1, 5, 6, 7, 9]\n"
          ]
        }
      ]
    },
    {
      "cell_type": "markdown",
      "source": [
        "# No 3\n",
        "Buatlah modifikasi program Insertion Sort agar meminimalkan jumlah perbandingan. Dengan melakukan pengecekan awal untuk memastikan bahwa elemen sudah di tempat yang tepat sebelum memulai proses pergeseran. Hal ini akan mengurangi jumlah operasi secara keseluruhan jika elemen sudah dalam uru-\n",
        "tan yang benar."
      ],
      "metadata": {
        "id": "VfaatsesWakz"
      }
    },
    {
      "cell_type": "code",
      "source": [
        "def insertionSort(data):\n",
        "  for i in range(1, len(data)):\n",
        "    if data[i-1] < data[i]:\n",
        "      continue\n",
        "    key = data[i]\n",
        "    j = i - 1\n",
        "    while j >= 0 and data[j] > key:\n",
        "      print(f'{data[j]} to right = {data}')\n",
        "      data[j+1] = data[j]\n",
        "      j = j - 1\n",
        "    data[j+1] = key\n",
        "    print(f'\\nData saat ini: {data}\\n')\n",
        "  return data\n",
        "\n",
        "arr = [4,3,2,1,5]\n",
        "print(\"Data awal: \",arr)\n",
        "print(\"Data akhir: \",insertionSort(arr))"
      ],
      "metadata": {
        "id": "0OblylIPt0V0",
        "colab": {
          "base_uri": "https://localhost:8080/"
        },
        "outputId": "87a6e392-8979-48ad-9e9a-1dc24c0ea2df"
      },
      "execution_count": null,
      "outputs": [
        {
          "output_type": "stream",
          "name": "stdout",
          "text": [
            "Data awal:  [4, 3, 2, 1, 5]\n",
            "4 to right = [4, 3, 2, 1, 5]\n",
            "\n",
            "Data saat ini: [3, 4, 2, 1, 5]\n",
            "\n",
            "4 to right = [3, 4, 2, 1, 5]\n",
            "3 to right = [3, 4, 4, 1, 5]\n",
            "\n",
            "Data saat ini: [2, 3, 4, 1, 5]\n",
            "\n",
            "4 to right = [2, 3, 4, 1, 5]\n",
            "3 to right = [2, 3, 4, 4, 5]\n",
            "2 to right = [2, 3, 3, 4, 5]\n",
            "\n",
            "Data saat ini: [1, 2, 3, 4, 5]\n",
            "\n",
            "Data akhir:  [1, 2, 3, 4, 5]\n"
          ]
        }
      ]
    }
  ]
}